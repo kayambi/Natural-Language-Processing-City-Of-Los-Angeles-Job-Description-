{
 "cells": [
  {
   "cell_type": "markdown",
   "metadata": {},
   "source": [
    "# City of Los Angeles - Job Bulletins/Descriptions"
   ]
  },
  {
   "cell_type": "markdown",
   "metadata": {},
   "source": [
    "### Problem Statement"
   ]
  },
  {
   "cell_type": "markdown",
   "metadata": {},
   "source": [
    "##### The City of Los Angeles faces a big hiring challenge: 1/3 of its 50,000 workers are eligible to retire by July of 2020. The city has partnered with Kaggle to create a competition to improve the job bulletins that will fill all those open positions."
   ]
  },
  {
   "cell_type": "markdown",
   "metadata": {},
   "source": [
    "The content, tone, and format of job bulletins can influence the quality of the applicant pool. Overly-specific job requirements may discourage diversity. The Los Angeles Mayor’s Office wants to reimagine the city’s job bulletins by using text analysis to identify needed improvements."
   ]
  },
  {
   "cell_type": "markdown",
   "metadata": {},
   "source": [
    "The goal is to convert a folder full of plain-text job postings into a single structured CSV file and then to use this data to: (1) identify language that can negatively bias the pool of applicants; (2) improve the diversity and quality of the applicant pool; and/or (3) make it easier to determine which promotions are available to employees in each job class."
   ]
  },
  {
   "cell_type": "markdown",
   "metadata": {},
   "source": [
    "Unsupervised Machine Learning\n",
    "- Topic Modeling\n",
    "\n",
    "- https://www.geeksforgeeks.org/readability-index-pythonnlp/\n",
    "\n",
    "- https://medium.com/@FastCompany/analyzing-the-subtle-bias-in-tech-companies-recruiting-emails-b9b3123b2991\n",
    "\n",
    "- Word Cloud\n",
    "- Count average number of words"
   ]
  },
  {
   "cell_type": "code",
   "execution_count": null,
   "metadata": {},
   "outputs": [],
   "source": [
    "# Libraries\n",
    "\n",
    "# Install spaCy Library for Advanced Natural Language Processing in Python\n",
    "!pip install spacy\n",
    "!python -m spacy download en"
   ]
  },
  {
   "cell_type": "code",
   "execution_count": 1,
   "metadata": {},
   "outputs": [],
   "source": [
    "# Dependencies & Setup\n",
    "\n",
    "import os, glob, sys\n",
    "import spacy\n",
    "from spacy.matcher import PhraseMatcher\n",
    "import random"
   ]
  },
  {
   "cell_type": "code",
   "execution_count": null,
   "metadata": {},
   "outputs": [],
   "source": [
    "# Retrive Data\n",
    "\n",
    "# Method 1\n",
    "# Open All Files in Directory\n",
    "all_files = os.listdir(\"data/Job Bulletins\")\n",
    "# print(all_files)\n",
    "\n",
    "# Get all the files in the folder and read their data \n",
    "for files in all_files:\n",
    "    if (files != '.ipynb_checkpoints'):\n",
    "        try:\n",
    "            f = open(\"data/Job Bulletins/\" + files, \"r\")\n",
    "            contents = f.read()\n",
    "        except:\n",
    "            break         \n",
    "# print(contents)"
   ]
  },
  {
   "cell_type": "code",
   "execution_count": null,
   "metadata": {},
   "outputs": [],
   "source": [
    "# Method 2\n",
    "for all_files in glob.glob('*.txt'):\n",
    "    print(all_files)"
   ]
  },
  {
   "cell_type": "code",
   "execution_count": 2,
   "metadata": {},
   "outputs": [
    {
     "name": "stdout",
     "output_type": "stream",
     "text": [
      "Successfully retrieved 683 files from folder.\n"
     ]
    }
   ],
   "source": [
    "# Method 3\n",
    "# Create a files array to hold all of the file names in the folder\n",
    "files = []\n",
    "# Folder Path\n",
    "folder_path = \"data/Job Bulletins\"\n",
    "# Iterate through all of the files in the folder path\n",
    "counter = 0\n",
    "for filename in glob.glob(os.path.join(folder_path, '*.txt')):\n",
    "    with open(filename, 'r') as f:\n",
    "        # Throw exception for file names that are not usable\n",
    "        try:\n",
    "            files.append(filename)\n",
    "            counter += 1\n",
    "        except:\n",
    "            files.append('None')\n",
    "print(f'Successfully retrieved {counter} files from folder.')"
   ]
  },
  {
   "cell_type": "code",
   "execution_count": 13,
   "metadata": {},
   "outputs": [],
   "source": [
    "# Create NLP pipeline\n",
    "\n",
    "# nlp = English()\n",
    "nlp = spacy.load('en')\n",
    "\n",
    "# Model and languague data load and check\n",
    "if 'ner' not in nlp.pipe_names:\n",
    "    ner = nlp.create_pipe('ner')\n",
    "    nlp.add_pipe('ner')\n",
    "else:\n",
    "    nlp.get_pipe('ner')"
   ]
  },
  {
   "cell_type": "code",
   "execution_count": 4,
   "metadata": {},
   "outputs": [],
   "source": [
    "# Create known lables and their entities\n",
    "\n",
    "label = 'TITLE'\n",
    "matcher = PhraseMatcher(nlp.vocab)\n",
    "for i in [\"ENGINEER\", \"Engineer\",]:\n",
    "    matcher.add(label, None, nlp(i))\n",
    "\n",
    "# label = 'COLDEG'\n",
    "# matcher = PhraseMatcher(nlp.vocab)\n",
    "# for i in [\"bachelor's degree\", \"university\", \"four-year college\"]:\n",
    "#     matcher.add(label, None, nlp(i))"
   ]
  },
  {
   "cell_type": "code",
   "execution_count": 5,
   "metadata": {},
   "outputs": [],
   "source": [
    "# Define the offest function to turn string indexes into item indexes \n",
    "\n",
    "def offsetter(lbl, doc, matchitem):\n",
    "    o_one = len(str(doc[0:matchitem[1]]))\n",
    "    subdoc = doc[matchitem[1]:matchitem[2]]\n",
    "    o_two = o_one + len(str(subdoc))\n",
    "    return (o_one, o_two, lbl)"
   ]
  },
  {
   "cell_type": "code",
   "execution_count": 6,
   "metadata": {},
   "outputs": [],
   "source": [
    "# Warning ⚠️: Will take a while if used on every file, recommend \n",
    "# using test_files for testing.\n",
    "# Create docs and entities to train the model with the labels created\n",
    "\n",
    "test_files = files[:10]\n",
    "test_file = os.path.join('data/Job Bulletins/SENIOR SAFETY ENGINEER ELEVATORS 4264  042718.txt')\n",
    "\n",
    "res = []\n",
    "to_train_ents = []\n",
    "\n",
    "for file_name in test_files:\n",
    "    if (file_name != 'None'):\n",
    "        with open(f'{test_file}') as jb:\n",
    "            line = True\n",
    "            while line:\n",
    "                line = jb.readline()\n",
    "                mnlp_line = nlp(line)\n",
    "                matches = matcher(mnlp_line)\n",
    "                res = [offsetter(label, mnlp_line, x)\n",
    "                      for x\n",
    "                      in matches]\n",
    "                to_train_ents.append((line, \n",
    "                                      dict(entities=res)))"
   ]
  },
  {
   "cell_type": "code",
   "execution_count": null,
   "metadata": {},
   "outputs": [],
   "source": [
    "# for ent in to_train_ents:\n",
    "#     if (ent[1] != {'entities': []}):\n",
    "#         print(ent)"
   ]
  },
  {
   "cell_type": "code",
   "execution_count": 7,
   "metadata": {},
   "outputs": [
    {
     "name": "stdout",
     "output_type": "stream",
     "text": [
      "10\n"
     ]
    }
   ],
   "source": [
    "# Clean Data\n",
    "\n",
    "# Remove empty lines...\n",
    "counter = 0\n",
    "for line in to_train_ents:\n",
    "    if ([line[0]] == ['']):\n",
    "        counter += 1\n",
    "        to_train_ents.remove(line)\n",
    "print(counter)"
   ]
  },
  {
   "cell_type": "code",
   "execution_count": 8,
   "metadata": {
    "scrolled": true
   },
   "outputs": [
    {
     "name": "stdout",
     "output_type": "stream",
     "text": [
      "{'ner': 159.15139590261762}\n"
     ]
    }
   ],
   "source": [
    "# Warning ⚠️: This will use a lot of computer resources to run and will take a while, recommend \n",
    "# running on 1 epoch for testing. Although have on 20 for complete model.\n",
    "# Train the model\n",
    "\n",
    "optimizer = nlp.begin_training()\n",
    "\n",
    "other_pipes = [pipe\n",
    "              for pipe\n",
    "              in nlp.pipe_names\n",
    "              if pipe != 'ner']\n",
    "\n",
    "# Epoch setting\n",
    "epoch = 1\n",
    "\n",
    "with nlp.disable_pipes(*other_pipes): # Only train NER\n",
    "    for itn in range(epoch):\n",
    "        losses = {}\n",
    "        random.shuffle(to_train_ents)\n",
    "        for item in to_train_ents:\n",
    "#             print([item[0]])\n",
    "            nlp.update([item[0]],\n",
    "                       [item[1]],\n",
    "                       sgd=optimizer,\n",
    "                       drop=0.35,\n",
    "                       losses=losses)\n",
    "print(losses) # Error bounds"
   ]
  },
  {
   "cell_type": "code",
   "execution_count": 15,
   "metadata": {},
   "outputs": [
    {
     "data": {
      "text/plain": [
       "{'Hello': 91, 'Xavier': 96, 'tonight': 92, 'San': 96, 'Jose': 96}"
      ]
     },
     "execution_count": 15,
     "metadata": {},
     "output_type": "execute_result"
    }
   ],
   "source": [
    "# Stemmer (Possibly use for flask app that removes all stops words in a given string.)\n",
    "\n",
    "def stemmer():\n",
    "    data = to_analyze\n",
    "    doc = nlp(data)\n",
    "    raw = [(x.text, x.pos) for x in [y\n",
    "                    for y\n",
    "                    in doc\n",
    "                    if not y.is_stop and y.pos_ != 'PUNCT']] \n",
    "    return(dict(raw))\n",
    "    \n",
    "stemmer()"
   ]
  },
  {
   "cell_type": "code",
   "execution_count": null,
   "metadata": {},
   "outputs": [],
   "source": []
  },
  {
   "cell_type": "code",
   "execution_count": null,
   "metadata": {},
   "outputs": [],
   "source": []
  },
  {
   "cell_type": "code",
   "execution_count": null,
   "metadata": {},
   "outputs": [],
   "source": []
  },
  {
   "cell_type": "code",
   "execution_count": null,
   "metadata": {},
   "outputs": [],
   "source": []
  },
  {
   "cell_type": "code",
   "execution_count": null,
   "metadata": {},
   "outputs": [],
   "source": []
  },
  {
   "cell_type": "code",
   "execution_count": null,
   "metadata": {},
   "outputs": [],
   "source": []
  },
  {
   "cell_type": "code",
   "execution_count": null,
   "metadata": {},
   "outputs": [],
   "source": []
  },
  {
   "cell_type": "code",
   "execution_count": 12,
   "metadata": {},
   "outputs": [
    {
     "data": {
      "text/plain": [
       "[(12876033169774478903, 26, 27)]"
      ]
     },
     "execution_count": 12,
     "metadata": {},
     "output_type": "execute_result"
    }
   ],
   "source": [
    "# Test label-matcher\n",
    "\n",
    "one = nlp(\"In order to apply for this job you need at least one bachelor's degree or a four-year college.\\\n",
    "          and/or university. Engineer.\")\n",
    "matches = matcher(one)\n",
    "[match for match in matches]"
   ]
  },
  {
   "cell_type": "code",
   "execution_count": 14,
   "metadata": {},
   "outputs": [
    {
     "name": "stdout",
     "output_type": "stream",
     "text": [
      "[('Xavier', 'PERSON'), ('tonight', 'TIME'), ('San Jose', 'GPE')]\n"
     ]
    }
   ],
   "source": [
    "# Test built-in label and entity matcher\n",
    "\n",
    "to_analyze = (\"Hello, my name is Xavier, and tonight we're in San Jose.\")\n",
    "doc = nlp(to_analyze)\n",
    "ents = [(x.text, x.label_)\n",
    "       for x in doc.ents]\n",
    "print(ents)"
   ]
  },
  {
   "cell_type": "code",
   "execution_count": null,
   "metadata": {},
   "outputs": [],
   "source": [
    "# Test docs\n",
    "\n",
    "# to_train_ents = to_train_ents[:-1]\n",
    "# for item in to_train_ents:\n",
    "#             print([item[0]])"
   ]
  },
  {
   "cell_type": "code",
   "execution_count": null,
   "metadata": {
    "scrolled": false
   },
   "outputs": [],
   "source": [
    "# Test model\n",
    "\n",
    "# from spacy import displacy\n",
    "# for item in to_train_ents:\n",
    "#     displacy.render(one, style='dep')"
   ]
  },
  {
   "cell_type": "markdown",
   "metadata": {},
   "source": [
    "# TO-DO:\n",
    "- Data Examination:\n",
    "    - What biases (positive/negative) are we trying to find? **Important\n",
    "    - How will we optimize each doc? (i.e. Skills, Pay, etc.) \n",
    "    - Are there important entities we should establish? (i.e. college degree, certain responsibilites, etc.)\n",
    "    - What text analyis could make these docs better?"
   ]
  },
  {
   "cell_type": "code",
   "execution_count": null,
   "metadata": {},
   "outputs": [],
   "source": []
  }
 ],
 "metadata": {
  "kernelspec": {
   "display_name": "Python 3",
   "language": "python",
   "name": "python3"
  },
  "language_info": {
   "codemirror_mode": {
    "name": "ipython",
    "version": 3
   },
   "file_extension": ".py",
   "mimetype": "text/x-python",
   "name": "python",
   "nbconvert_exporter": "python",
   "pygments_lexer": "ipython3",
   "version": "3.7.0"
  }
 },
 "nbformat": 4,
 "nbformat_minor": 2
}
